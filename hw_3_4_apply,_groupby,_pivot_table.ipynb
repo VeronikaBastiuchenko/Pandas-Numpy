{
  "nbformat": 4,
  "nbformat_minor": 0,
  "metadata": {
    "colab": {
      "provenance": [],
      "include_colab_link": true
    },
    "kernelspec": {
      "name": "python3",
      "display_name": "Python 3"
    },
    "language_info": {
      "name": "python"
    }
  },
  "cells": [
    {
      "cell_type": "markdown",
      "metadata": {
        "id": "view-in-github",
        "colab_type": "text"
      },
      "source": [
        "<a href=\"https://colab.research.google.com/github/VeronikaBastiuchenko/Pandas-Numpy/blob/main/hw_3_4_apply%2C_groupby%2C_pivot_table.ipynb\" target=\"_parent\"><img src=\"https://colab.research.google.com/assets/colab-badge.svg\" alt=\"Open In Colab\"/></a>"
      ]
    },
    {
      "cell_type": "markdown",
      "source": [
        "#Домашнє завдання до тем apply(), groupby(), pivot_table()"
      ],
      "metadata": {
        "id": "LwNpAFw_eTF3"
      }
    },
    {
      "cell_type": "markdown",
      "source": [
        "В цьому домашньому завданні продовжуємо працювати з набором даних `supermarket_sales.csv`."
      ],
      "metadata": {
        "id": "vP2PEJyq8Yrj"
      }
    },
    {
      "cell_type": "markdown",
      "source": [
        "0. Імпортуйте бібліотеку pandas та зчитайте дані у змінну `df` типу `pandas.DataFrame`."
      ],
      "metadata": {
        "id": "dh9lfpDb8gBL"
      }
    },
    {
      "cell_type": "code",
      "source": [
        "import pandas as pd\n",
        "df = pd.read_csv('supermarket_sales.csv')"
      ],
      "metadata": {
        "id": "xBI9gJMK8qnl"
      },
      "execution_count": 1,
      "outputs": []
    },
    {
      "cell_type": "markdown",
      "metadata": {
        "id": "28638363"
      },
      "source": [
        "1. Дослідимо, який філіал супермаркету ('Branch') є найприбутковішим. Для цього знайдіть сумарний прибуток за кожним філіалом і виявіть, який філіал має найвищий."
      ]
    },
    {
      "cell_type": "code",
      "execution_count": 2,
      "metadata": {
        "ExecuteTime": {
          "end_time": "2022-11-01T17:27:42.023877Z",
          "start_time": "2022-11-01T17:27:42.020277Z"
        },
        "id": "916d731d",
        "colab": {
          "base_uri": "https://localhost:8080/"
        },
        "outputId": "fe7e3882-4cae-4e5b-a79b-60a8b0ee345c"
      },
      "outputs": [
        {
          "output_type": "stream",
          "name": "stdout",
          "text": [
            "Branch\n",
            "A    5057.1605\n",
            "B    5057.0320\n",
            "C    5265.1765\n",
            "Name: gross income, dtype: float64\n"
          ]
        }
      ],
      "source": [
        "branch_profits = df.groupby('Branch')['gross income'].sum()\n",
        "print(branch_profits)"
      ]
    },
    {
      "cell_type": "markdown",
      "source": [
        "2. В якому місті знайходиться філіал з найвищим прибутком? Може в тому місці нам розмітисти ще один магазин.  \n",
        "Знайдіть відповідь за допомогою функціоналу Pandas."
      ],
      "metadata": {
        "id": "2qL_OddUCZKK"
      }
    },
    {
      "cell_type": "code",
      "source": [
        "branch_with_max_profit = branch_profits.idxmax()\n",
        "city_with_max_profit = df[df['Branch'] == branch_with_max_profit]['City'].unique()[0]\n",
        "print(\"Філіал {branch_with_max_profit} з найвищим прибутком знаходиться в місті {city_with_max_profit}\")"
      ],
      "metadata": {
        "id": "bBJUc1dWCwdi",
        "colab": {
          "base_uri": "https://localhost:8080/"
        },
        "outputId": "5a012c70-22af-4517-8bec-f10456c69aeb"
      },
      "execution_count": 6,
      "outputs": [
        {
          "output_type": "stream",
          "name": "stdout",
          "text": [
            "Філіал {branch_with_max_profit} з найвищим прибутком знаходиться в місті {city_with_max_profit}\n"
          ]
        }
      ]
    },
    {
      "cell_type": "markdown",
      "metadata": {
        "id": "6dec795f"
      },
      "source": [
        "3.1. Створіть зводну таблицю, яка покаже, скільки покупок (інвойсів) було зроблено в кожній з філій (`Branch`) за різними категоріями товарів. Запишіть таблицю в змінну `invoices_by_category` і виведіть змінну на екран.\n",
        "Ця таблиця допоможе проаналізувати, в якій філії купують найбільше товарів кожної з категорій."
      ]
    },
    {
      "cell_type": "code",
      "source": [
        "invoices_by_category = pd.pivot_table(df,\n",
        "                                      index='Product line',\n",
        "                                      columns='Branch',\n",
        "                                      values='Invoice ID',\n",
        "                                      aggfunc='count')\n",
        "print(invoices_by_category)"
      ],
      "metadata": {
        "id": "N7TfUBf4ZrkX",
        "colab": {
          "base_uri": "https://localhost:8080/"
        },
        "outputId": "c6a56aef-d880-4df2-cbd4-483178577702"
      },
      "execution_count": 12,
      "outputs": [
        {
          "output_type": "stream",
          "name": "stdout",
          "text": [
            "Branch                   A   B   C\n",
            "Product line                      \n",
            "Electronic accessories  60  55  55\n",
            "Fashion accessories     51  62  65\n",
            "Food and beverages      58  50  66\n",
            "Health and beauty       47  53  52\n",
            "Home and lifestyle      65  50  45\n",
            "Sports and travel       59  62  45\n"
          ]
        }
      ]
    },
    {
      "cell_type": "code",
      "source": [
        "invoices_by_category = df.pivot_table(\n",
        "    index='Branch',\n",
        "    columns='Product line',\n",
        "    values='Invoice ID',\n",
        "    aggfunc='nunique'\n",
        ")\n",
        "print(invoices_by_category)"
      ],
      "metadata": {
        "colab": {
          "base_uri": "https://localhost:8080/"
        },
        "id": "MUgusxozvQRz",
        "outputId": "826f8b66-335a-4d35-933e-e1483d96412b"
      },
      "execution_count": 16,
      "outputs": [
        {
          "output_type": "stream",
          "name": "stdout",
          "text": [
            "Product line  Electronic accessories  Fashion accessories  Food and beverages  \\\n",
            "Branch                                                                          \n",
            "A                                 60                   51                  58   \n",
            "B                                 55                   62                  50   \n",
            "C                                 55                   65                  66   \n",
            "\n",
            "Product line  Health and beauty  Home and lifestyle  Sports and travel  \n",
            "Branch                                                                  \n",
            "A                            47                  65                 59  \n",
            "B                            53                  50                 62  \n",
            "C                            52                  45                 45  \n"
          ]
        }
      ]
    },
    {
      "cell_type": "markdown",
      "metadata": {
        "ExecuteTime": {
          "end_time": "2022-11-01T16:50:46.961201Z",
          "start_time": "2022-11-01T16:50:46.955894Z"
        },
        "id": "f5bbfa34"
      },
      "source": [
        "Очікуваний результат:"
      ]
    },
    {
      "cell_type": "markdown",
      "metadata": {
        "id": "34b9bcdc"
      },
      "source": [
        "![](https://drive.google.com/uc?export=view&id=1rueAdko6S3UxIHGtojetTxlES-EyM6Yb)"
      ]
    },
    {
      "cell_type": "markdown",
      "source": [
        "3.2. Викристовуючи змінну `invoices_by_category` дайте відповідь програмно (тобто значення треба не просто знайти очима, а вивести за допомогою коду), в якому філіалі магазину (`Branch`) найбільше інвойсів із покупкою товарів категорії \"Електронні аксесуари\" (`Electronic accessories`)?\n"
      ],
      "metadata": {
        "id": "woygDEA0OSwJ"
      }
    },
    {
      "cell_type": "code",
      "source": [
        "branch_max_electronic_accessories = invoices_by_category['Electronic accessories'].idxmax()\n",
        "count_max_electronic_accessories = invoices_by_category['Electronic accessories'].max()\n",
        "\n",
        "print(f\"Філіал '{branch_max_electronic_accessories}' має найбільше інвойсів ({count_max_electronic_accessories}) з покупкою товарів категорії 'Electronic accessories'.\")"
      ],
      "metadata": {
        "id": "B5x8kTE-Qcq8",
        "colab": {
          "base_uri": "https://localhost:8080/"
        },
        "outputId": "43c0f4b1-a7eb-4aca-fcf3-b5a31f9e6b6a"
      },
      "execution_count": 23,
      "outputs": [
        {
          "output_type": "stream",
          "name": "stdout",
          "text": [
            "Філіал 'A' має найбільше інвойсів (60) з покупкою товарів категорії 'Electronic accessories'.\n"
          ]
        }
      ]
    },
    {
      "cell_type": "markdown",
      "metadata": {
        "ExecuteTime": {
          "end_time": "2022-11-01T17:56:02.981755Z",
          "start_time": "2022-11-01T17:56:02.977086Z"
        },
        "id": "d005a2b8"
      },
      "source": [
        "4-6. **Творче завдання на розвиток аналітичного мислення**\n",
        "\n",
        "Крок 1. Сформулюйте ТРИ питання (гіпотези) до наявних даних, які допомогли б вам зрозуміти, які користувачі що, де та коли найбільше/найменше купують, аби дати на основі цих гіпотез рекомендації бізнесу. Звісно питання мають бути не тими, на які ми вже відповіли в завданнях модулю.\n",
        "\n",
        "Крок 2. Знайдіть відповіді на свої питання з допомогою функціоналу pandas.\n",
        "\n",
        "Крок 3. Напишіть, як відповідь на це питання може бути використана для прийняття бізнес рішень.   \n",
        "   \n",
        " Питання можуть бути будь-якої складності, але їх має бути 3. Кожне питання оцінюється як 1 завдання. Без виконання цього завдання ДЗ не приймається. Якщо є питання щодо виконання - пишіть у чат 🙌\n"
      ]
    },
    {
      "cell_type": "markdown",
      "source": [
        "**Питання**"
      ],
      "metadata": {
        "id": "PZ8G673YyWcL"
      }
    },
    {
      "cell_type": "markdown",
      "source": [
        "Питання 1: Який тип оплати найчастіше використовується для покупок з високим середнім чеком, і чи відрізняється це по містах?\n",
        "\n",
        "Питання 2: Чи є певні години доби, коли покупці купують товари конкретних категорій частіше за інші?\n",
        "\n",
        "Питання 3: Який день тижня є найактивнішим для покупок?\n",
        "\n"
      ],
      "metadata": {
        "id": "G29iaz9mw761"
      }
    },
    {
      "cell_type": "markdown",
      "source": [
        "**Відповідь на питання 1:**"
      ],
      "metadata": {
        "id": "VNtLnRqUyRGV"
      }
    },
    {
      "cell_type": "code",
      "source": [
        "payment_city_analysis = df.groupby(['City', 'Payment'])['Total'].agg(['count', 'mean']).unstack()\n",
        "print(\"Аналіз середнього чеку та кількості покупок за типом оплати та містом:\")\n",
        "print(payment_city_analysis)"
      ],
      "metadata": {
        "colab": {
          "base_uri": "https://localhost:8080/"
        },
        "id": "McTrLxpTxRK0",
        "outputId": "bb246c1d-f426-4376-804f-5feffa449b52"
      },
      "execution_count": 27,
      "outputs": [
        {
          "output_type": "stream",
          "name": "stdout",
          "text": [
            "Аналіз середнього чеку та кількості покупок за типом оплати та містом:\n",
            "          count                            mean                        \n",
            "Payment    Cash Credit card Ewallet        Cash Credit card     Ewallet\n",
            "City                                                                   \n",
            "Mandalay    110         109     113  321.267832  342.613362  296.578354\n",
            "Naypyitaw   124          98     106  347.466593  309.463929  350.522491\n",
            "Yangon      110         104     126  307.102282  318.218755  312.098167\n"
          ]
        }
      ]
    },
    {
      "cell_type": "markdown",
      "source": [
        "У Naypyitaw найбільший середній чек при оплаті готівкою та Ewallet, а в Mandalay оплати кредитними картками. Yangon має найбільшу кількість транзакцій через Ewallet.\n",
        "Поради: У Naypyitaw треба заохочувати клієнтів до готівкової оплати та Ewallet для максимізації прибутку. у Mandalay треба орієнтуватись на оплату картками; для Yangon розвивати далі зручність використання Ewallet. Для бізнесу краще звернути увагу на те якщо в певному місті для великих покупок переважає певний тип оплати, треба контролювати щоб цей метод був зручний та швидкий (наприклад, більше терміналів для карткових оплат, зручніші умови для готівкових розрахунків)."
      ],
      "metadata": {
        "id": "b4m_3QP5yJuw"
      }
    },
    {
      "cell_type": "markdown",
      "source": [
        "**Відповідь на питання 2:**"
      ],
      "metadata": {
        "id": "_EKKBgYQzfH4"
      }
    },
    {
      "cell_type": "code",
      "source": [
        "print(\"Кількість покупок за категоріями товарів та годинами доби:\")\n",
        "category_hour_counts = df.pivot_table(\n",
        "    index='Hour',\n",
        "    columns='Product line',\n",
        "    values='Invoice ID',\n",
        "    aggfunc='count'\n",
        ").fillna(0)\n",
        "print(category_hour_counts)"
      ],
      "metadata": {
        "colab": {
          "base_uri": "https://localhost:8080/"
        },
        "id": "ChPcDPfkzUKQ",
        "outputId": "0845849e-c65f-40d4-898b-eccae8ee92fe"
      },
      "execution_count": 34,
      "outputs": [
        {
          "output_type": "stream",
          "name": "stdout",
          "text": [
            "Кількість покупок за категоріями товарів та годинами доби:\n",
            "Product line  Electronic accessories  Fashion accessories  Food and beverages  \\\n",
            "Hour                                                                            \n",
            "10                                17                   14                  20   \n",
            "11                                18                   14                  11   \n",
            "12                                16                   19                  10   \n",
            "13                                13                   19                  15   \n",
            "14                                14                   15                  12   \n",
            "15                                15                   18                  21   \n",
            "16                                11                   12                  16   \n",
            "17                                14                   13                   6   \n",
            "18                                20                   19                  17   \n",
            "19                                16                   24                  26   \n",
            "20                                16                   11                  20   \n",
            "\n",
            "Product line  Health and beauty  Home and lifestyle  Sports and travel  \n",
            "Hour                                                                    \n",
            "10                           17                  18                 15  \n",
            "11                           10                  21                 16  \n",
            "12                           14                  14                 16  \n",
            "13                           17                  20                 19  \n",
            "14                           19                   9                 14  \n",
            "15                           12                  19                 17  \n",
            "16                           10                   8                 20  \n",
            "17                           11                  17                 13  \n",
            "18                           14                  11                 12  \n",
            "19                           14                  13                 20  \n",
            "20                           14                  10                  4  \n"
          ]
        }
      ]
    },
    {
      "cell_type": "markdown",
      "source": [
        "Ця таблиця дозволяє побачити, коли (якої години) які категорії товарів найпопулярніші. Наприклад, можна помітити пік продажів \"Food and beverages\" в обідні години, або \"Fashion accessories\" у вечірні години. Порада для бізнесу: Розміщувати акційні або найпопулярніші товари відповідних категорій у найбільш доступних місцях (наприклад, біля входу) у години їхнього піку."
      ],
      "metadata": {
        "id": "6qZAE3dPzigj"
      }
    },
    {
      "cell_type": "markdown",
      "source": [
        "**Відповідь на питання 3:**"
      ],
      "metadata": {
        "id": "s2laQ3oQz_Bk"
      }
    },
    {
      "cell_type": "code",
      "source": [
        "if 'Date' in df.columns and 'DayOfWeek' not in df.columns:\n",
        "    df['Date'] = pd.to_datetime(df['Date'])\n",
        "    df['DayOfWeek'] = df['Date'].dt.day_name()"
      ],
      "metadata": {
        "id": "oB7nnDif0GOA"
      },
      "execution_count": 31,
      "outputs": []
    },
    {
      "cell_type": "code",
      "source": [
        "print(\"Активність покупок за днями тижня:\")\n",
        "daily_purchases = df['DayOfWeek'].value_counts().sort_values(ascending=False)\n",
        "print(daily_purchases)"
      ],
      "metadata": {
        "colab": {
          "base_uri": "https://localhost:8080/"
        },
        "id": "Y7xothaAy6PB",
        "outputId": "f4888dfa-afa7-4abd-929c-308add3c4287"
      },
      "execution_count": 32,
      "outputs": [
        {
          "output_type": "stream",
          "name": "stdout",
          "text": [
            "Активність покупок за днями тижня:\n",
            "DayOfWeek\n",
            "Saturday     164\n",
            "Tuesday      158\n",
            "Wednesday    143\n",
            "Friday       139\n",
            "Thursday     138\n",
            "Sunday       133\n",
            "Monday       125\n",
            "Name: count, dtype: int64\n"
          ]
        }
      ]
    },
    {
      "cell_type": "markdown",
      "source": [
        "Субота є найактивнішим днем для покупок, тоді як понеділок – найменш активним. Порадидля бізнесу: У суботу треба забезпечити достатню кількість персоналу та повні полиці товарів; у понеділок розглянути можливість проведення акцій або спеціальних пропозицій для залучення більшої кількості покупців."
      ],
      "metadata": {
        "id": "_wxU96el0QuO"
      }
    }
  ]
}