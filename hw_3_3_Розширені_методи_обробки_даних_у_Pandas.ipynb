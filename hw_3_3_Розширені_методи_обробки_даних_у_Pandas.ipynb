{
  "nbformat": 4,
  "nbformat_minor": 0,
  "metadata": {
    "colab": {
      "provenance": [],
      "include_colab_link": true
    },
    "kernelspec": {
      "name": "python3",
      "display_name": "Python 3"
    },
    "language_info": {
      "name": "python"
    }
  },
  "cells": [
    {
      "cell_type": "markdown",
      "metadata": {
        "id": "view-in-github",
        "colab_type": "text"
      },
      "source": [
        "<a href=\"https://colab.research.google.com/github/VeronikaBastiuchenko/Pandas-Numpy/blob/main/hw_3_3_%D0%A0%D0%BE%D0%B7%D1%88%D0%B8%D1%80%D0%B5%D0%BD%D1%96_%D0%BC%D0%B5%D1%82%D0%BE%D0%B4%D0%B8_%D0%BE%D0%B1%D1%80%D0%BE%D0%B1%D0%BA%D0%B8_%D0%B4%D0%B0%D0%BD%D0%B8%D1%85_%D1%83_Pandas.ipynb\" target=\"_parent\"><img src=\"https://colab.research.google.com/assets/colab-badge.svg\" alt=\"Open In Colab\"/></a>"
      ]
    },
    {
      "cell_type": "markdown",
      "source": [
        "# Домашнє завдання до теми \"Розширені методи обробки даних у Pandas\""
      ],
      "metadata": {
        "id": "wF6xe36Osbxi"
      }
    },
    {
      "cell_type": "markdown",
      "source": [
        "В цьому домашньому завданні продовжуємо працювати з набором даних `supermarket_sales.csv`."
      ],
      "metadata": {
        "id": "Fa2CIJElO3L3"
      }
    },
    {
      "cell_type": "markdown",
      "source": [
        "0. Імпортуйте бібліотеку pandas та зчитайте дані у змінну `df` типу `pandas.DataFrame`."
      ],
      "metadata": {
        "id": "z0F_6xB-DQi7"
      }
    },
    {
      "cell_type": "code",
      "source": [
        "import pandas as pd\n",
        "df = pd.read_csv('supermarket_sales.csv')"
      ],
      "metadata": {
        "id": "-4jR3F-rDQi7"
      },
      "execution_count": 3,
      "outputs": []
    },
    {
      "cell_type": "markdown",
      "source": [
        "1. Відсортуйте дані за спаданням ціни товара ('Unit price') і виведіть 5 перших рядочків на екран."
      ],
      "metadata": {
        "id": "hH26_h5wOLfj"
      }
    },
    {
      "cell_type": "code",
      "source": [
        "sorted_df = df.sort_values(by='Unit price', ascending=False)\n",
        "print(\"Топ-5 за ціною товару:\")\n",
        "print(sorted_df.head(5))"
      ],
      "metadata": {
        "id": "C_CMIujQN9s6",
        "colab": {
          "base_uri": "https://localhost:8080/"
        },
        "outputId": "e6b9ac8f-5b7b-45b2-af31-a2a2e01bef01"
      },
      "execution_count": 4,
      "outputs": [
        {
          "output_type": "stream",
          "name": "stdout",
          "text": [
            "Топ-5 за ціною товару:\n",
            "      Invoice ID Branch       City Customer type Gender         Product line  \\\n",
            "983  148-41-7930      C  Naypyitaw        Normal   Male    Health and beauty   \n",
            "122  219-22-9386      B   Mandalay        Member   Male    Sports and travel   \n",
            "930  641-62-7288      B   Mandalay        Normal   Male   Home and lifestyle   \n",
            "494  437-53-3084      B   Mandalay        Normal   Male  Fashion accessories   \n",
            "283  667-92-0055      A     Yangon        Member   Male    Health and beauty   \n",
            "\n",
            "     Unit price  Quantity  Tax 5%    Total       Date   Time      Payment  \\\n",
            "983       99.96         7  34.986  734.706  1/23/2019  10:33         Cash   \n",
            "122       99.96         9  44.982  944.622   3/9/2019  17:26  Credit card   \n",
            "930       99.92         6  29.976  629.496  3/24/2019  13:33      Ewallet   \n",
            "494       99.89         2   9.989  209.769  2/26/2019  11:48      Ewallet   \n",
            "283       99.83         6  29.949  628.929   3/4/2019  15:02      Ewallet   \n",
            "\n",
            "       cogs  gross margin percentage  gross income  Rating  \n",
            "983  699.72                 4.761905        34.986     6.1  \n",
            "122  899.64                 4.761905        44.982     4.2  \n",
            "930  599.52                 4.761905        29.976     7.1  \n",
            "494  199.78                 4.761905         9.989     7.1  \n",
            "283  598.98                 4.761905        29.949     8.5  \n"
          ]
        }
      ]
    },
    {
      "cell_type": "markdown",
      "source": [
        "2. Знайдіть інвойс (рядок в даних) в категорії товарів `Electronic accessories`, в якому був куплений товар з найбільшою кількістю і найбільшою ціною. Виведіть цей рядок даних на екран."
      ],
      "metadata": {
        "id": "H7IyOIfIONXy"
      }
    },
    {
      "cell_type": "code",
      "source": [
        "ea_df = df[df['Product line'] == 'Electronic accessories']\n",
        "max_row = ea_df.loc[ea_df[['Unit price', 'Quantity']].product(axis=1).idxmax()]\n",
        "print(\"\\nІнвойс з найбільшою кількістю і ціною в Electronic accessories:\")\n",
        "print(max_row)"
      ],
      "metadata": {
        "id": "rHtk3rXoNHr5",
        "colab": {
          "base_uri": "https://localhost:8080/"
        },
        "outputId": "7c7d16f1-d87a-4e6b-ed69-7663e92655ec"
      },
      "execution_count": 5,
      "outputs": [
        {
          "output_type": "stream",
          "name": "stdout",
          "text": [
            "\n",
            "Інвойс з найбільшою кількістю і ціною в Electronic accessories:\n",
            "Invoice ID                            817-69-8206\n",
            "Branch                                          B\n",
            "City                                     Mandalay\n",
            "Customer type                              Normal\n",
            "Gender                                     Female\n",
            "Product line               Electronic accessories\n",
            "Unit price                                  99.73\n",
            "Quantity                                        9\n",
            "Tax 5%                                    44.8785\n",
            "Total                                    942.4485\n",
            "Date                                     3/2/2019\n",
            "Time                                        19:42\n",
            "Payment                               Credit card\n",
            "cogs                                       897.57\n",
            "gross margin percentage                  4.761905\n",
            "gross income                              44.8785\n",
            "Rating                                        6.5\n",
            "Name: 209, dtype: object\n"
          ]
        }
      ]
    },
    {
      "cell_type": "markdown",
      "source": [
        "3.1. Створіть нову колонку в даних `Rating Category`, яка визначає категорію рейтингу (`Rating`): високий, середній чи низький за наступним правилом:\n",
        "- якщо рейтинг вищий або рівний 8 - то він високий (`High`)\n",
        "- якщо рейтинг від 6 до 8 не включаючи - то він середній (`Medium`)\n",
        "- інакше - низький (`Low`)."
      ],
      "metadata": {
        "id": "n2iSihPRDHvv"
      }
    },
    {
      "cell_type": "code",
      "source": [
        "def categorize_rating(r):\n",
        "    if r >= 8:\n",
        "        return 'High'\n",
        "    elif r >= 6:\n",
        "        return 'Medium'\n",
        "    else:\n",
        "        return 'Low'\n",
        "df['Rating Category'] = df['Rating'].apply(categorize_rating)"
      ],
      "metadata": {
        "id": "WfYpk_VdD_sI"
      },
      "execution_count": 7,
      "outputs": []
    },
    {
      "cell_type": "markdown",
      "source": [
        "3.2. Виведіть, який відсоток даних становить кожне зі значень категорій рейтингу."
      ],
      "metadata": {
        "id": "0tTSRjXDEdDe"
      }
    },
    {
      "cell_type": "code",
      "source": [
        "rating_percent = df['Rating Category'].value_counts(normalize=True) * 100\n",
        "print(\"Відсотковий розподіл категорій рейтингу:\")\n",
        "print(rating_percent)"
      ],
      "metadata": {
        "id": "gYd_Y96ODS3a",
        "colab": {
          "base_uri": "https://localhost:8080/"
        },
        "outputId": "ed75222f-3c1a-4992-de72-8f51efa77db5"
      },
      "execution_count": 16,
      "outputs": [
        {
          "output_type": "stream",
          "name": "stdout",
          "text": [
            "Відсотковий розподіл категорій рейтингу:\n",
            "Rating Category\n",
            "Medium    35.6\n",
            "High      32.9\n",
            "Low       31.5\n",
            "Name: proportion, dtype: float64\n"
          ]
        }
      ]
    },
    {
      "cell_type": "markdown",
      "source": [
        "4.1. Запустіть код нижче аби створити змінну `time`. Ця змінна містить час в форматі \"година:хвилина\". Напишіть функцію `get_hour`, яка буде зі змінної формату як `time` дістати лише години і конвертувати їх у тип `int`.\n",
        "\n",
        "Запустіть написану функцію на змінній `time` та перевірте правильність роботи функції."
      ],
      "metadata": {
        "id": "qGPne8sFHGGM"
      }
    },
    {
      "cell_type": "code",
      "source": [
        "time = '11:28'"
      ],
      "metadata": {
        "id": "OZ2DD2AGEZme"
      },
      "execution_count": 12,
      "outputs": []
    },
    {
      "cell_type": "code",
      "source": [
        "def get_hour(t):\n",
        "    return int(t.split(':')[0])\n",
        "\n",
        "print(\"Година з time =\", time, \":\", get_hour(time))"
      ],
      "metadata": {
        "id": "BxDWBPalHimp",
        "colab": {
          "base_uri": "https://localhost:8080/"
        },
        "outputId": "51c85c97-70fc-4214-bc99-2947fc2ec92c"
      },
      "execution_count": 15,
      "outputs": [
        {
          "output_type": "stream",
          "name": "stdout",
          "text": [
            "Година з time = 11:28 : 11\n"
          ]
        }
      ]
    },
    {
      "cell_type": "markdown",
      "source": [
        "4.2. З допомогою функції `get_hour` і метода `DataFrame.apply()` створіть нову колонку `Hour` в нашому наборі даних, яка буде містити години здійснення покупки, обчислені на основі часу здійснення покупки `Time`."
      ],
      "metadata": {
        "id": "3F7Nmc84IM9C"
      }
    },
    {
      "cell_type": "code",
      "source": [
        "df['Hour'] = df['Time'].apply(get_hour)"
      ],
      "metadata": {
        "id": "P-DQNIwQH_Io"
      },
      "execution_count": 17,
      "outputs": []
    },
    {
      "cell_type": "markdown",
      "source": [
        "4.3. Виведіть кількість значень за кожною годиною покупки і дайте відповідь \"О яких годинах найбільше здійснюють покупок покупці і чому на Ваш погляд саме о цих годинах? Чи це слогічно, що найбільше покупок саме в ці години?\"."
      ],
      "metadata": {
        "id": "VcuugIB2IszQ"
      }
    },
    {
      "cell_type": "code",
      "source": [
        "hour_counts = df['Hour'].value_counts().sort_index()\n",
        "print(\"Кількість покупок за кожною годиною:\")\n",
        "print(hour_counts)"
      ],
      "metadata": {
        "id": "5NgTbHM8I-Or",
        "colab": {
          "base_uri": "https://localhost:8080/"
        },
        "outputId": "72cc252f-adae-47b0-ea97-5ba496d2f013"
      },
      "execution_count": 23,
      "outputs": [
        {
          "output_type": "stream",
          "name": "stdout",
          "text": [
            "Кількість покупок за кожною годиною:\n",
            "Hour\n",
            "10    101\n",
            "11     90\n",
            "12     89\n",
            "13    103\n",
            "14     83\n",
            "15    102\n",
            "16     77\n",
            "17     74\n",
            "18     93\n",
            "19    113\n",
            "20     75\n",
            "Name: count, dtype: int64\n"
          ]
        }
      ]
    },
    {
      "cell_type": "markdown",
      "source": [
        "Виходячи з наданих результатів, найбільше покупок здійснюється о 19:00 (113 покупок), за якою слідують 13:00 (103 покупки), 15:00 (102 покупки), та 10:00 (101 покупка). Це цілком логічно, оскільки ці години часто припадають на обідню перерву або вечірній час після закінчення робочого дня, коли люди мають більше вільного часу для шопінгу."
      ],
      "metadata": {
        "id": "unYhW8LOCp1H"
      }
    },
    {
      "cell_type": "markdown",
      "source": [
        "5. Виведіть середнє значення чеку (`Total`) для покупок в містах, наявних в даних, за допомогою функції `groupby`."
      ],
      "metadata": {
        "id": "vUniX9GAKtco"
      }
    },
    {
      "cell_type": "code",
      "source": [
        "mean_total_by_city = df.groupby('City')['Total'].mean()\n",
        "print(\"Середній чек по містах:\")\n",
        "print(mean_total_by_city)"
      ],
      "metadata": {
        "id": "eWRBQoO_JBY3",
        "colab": {
          "base_uri": "https://localhost:8080/"
        },
        "outputId": "07cbc5ab-94ba-475d-8a58-3bf89df83d21"
      },
      "execution_count": 22,
      "outputs": [
        {
          "output_type": "stream",
          "name": "stdout",
          "text": [
            "Середній чек по містах:\n",
            "City\n",
            "Mandalay     319.872506\n",
            "Naypyitaw    337.099715\n",
            "Yangon       312.354031\n",
            "Name: Total, dtype: float64\n"
          ]
        }
      ]
    },
    {
      "cell_type": "markdown",
      "source": [
        "6. Виведіть кількість покупок, середнє, мінімальне та максимальне значення для загальної суми чеку (Total) в містах, наявних в даних, за допомогою функції groupby.\n",
        "Зробіть висновки з цих показників та дайте рекомендації для мережі супермаркетів."
      ],
      "metadata": {
        "id": "kgXBFApjLQxp"
      }
    },
    {
      "cell_type": "code",
      "source": [
        "summary_stats = df.groupby('City')['Total'].agg(['count', 'mean', 'min', 'max'])\n",
        "print(\"Статистика Total по містах:\")\n",
        "print(summary_stats)"
      ],
      "metadata": {
        "id": "qdspE5eWK0bq",
        "colab": {
          "base_uri": "https://localhost:8080/"
        },
        "outputId": "81132241-e34f-4a1f-c430-4b708ff4b61a"
      },
      "execution_count": 21,
      "outputs": [
        {
          "output_type": "stream",
          "name": "stdout",
          "text": [
            "Статистика Total по містах:\n",
            "           count        mean      min      max\n",
            "City                                          \n",
            "Mandalay     332  319.872506  18.6375  1022.49\n",
            "Naypyitaw    328  337.099715  10.6785  1042.65\n",
            "Yangon       340  312.354031  12.6945  1039.29\n"
          ]
        }
      ]
    },
    {
      "cell_type": "markdown",
      "source": [
        "Naypyitaw має найвищий середній чек ($337.10) та найбільш максимальний чек, що свідчить про потенціал для більших витрат з боку покупців. Mandalay та Yangon мають схожі середні та максимальні показники, хоча Yangon має найбільшу кількість покупок (340). Рекомендації для супермаркетів:Для Naypyitaw краще зосередитись на преміальних товарах та програмах лояльності для стимулювання більших чеків. У Yangon можна оптимізувати швидкість обслуговування та наявність товарів через велику кількість покупок. Для Mandalay можна впровадити акції чи інші способи щоб збільшити середній чек."
      ],
      "metadata": {
        "id": "T8m1F7t_C2su"
      }
    },
    {
      "cell_type": "markdown",
      "source": [
        "7. Ми внесли деякі зміни в наш набір даних, тож, давайте запишемо результат у файл. Запишіть оновлену версію даних у файл `supermarket_sales_enriched.csv`. Зверніть увагу, аби не записати нічого зайвого, наприклад, індекси рядків нам в файлі не потрібні, оскільки вони стандартні."
      ],
      "metadata": {
        "id": "_GPVYoEe6M9E"
      }
    },
    {
      "cell_type": "code",
      "source": [
        "df.to_csv('supermarket_sales_enriched.csv', index=False)"
      ],
      "metadata": {
        "id": "MyEE8sAR6ele"
      },
      "execution_count": 26,
      "outputs": []
    }
  ]
}